{
 "cells": [
  {
   "cell_type": "code",
   "execution_count": 1,
   "metadata": {
    "collapsed": false
   },
   "outputs": [
    {
     "name": "stderr",
     "output_type": "stream",
     "text": [
      "Using TensorFlow backend.\n"
     ]
    }
   ],
   "source": [
    "import numpy as np\n",
    "import matplotlib.pyplot as plt\n",
    "import tensorflow as tf\n",
    "from sklearn.utils import shuffle\n",
    "from keras.models import Sequential\n",
    "from keras.layers import Dense, Activation\n",
    "from keras.optimizers import SGD"
   ]
  },
  {
   "cell_type": "markdown",
   "metadata": {},
   "source": [
    "### set data"
   ]
  },
  {
   "cell_type": "code",
   "execution_count": 2,
   "metadata": {
    "collapsed": true
   },
   "outputs": [],
   "source": [
    "M=2\n",
    "K=3\n",
    "n=100\n",
    "N=n * K"
   ]
  },
  {
   "cell_type": "code",
   "execution_count": 3,
   "metadata": {
    "collapsed": false
   },
   "outputs": [
    {
     "name": "stdout",
     "output_type": "stream",
     "text": [
      "(300, 2) (300, 3)\n"
     ]
    }
   ],
   "source": [
    "X1 = np.random.randn(n, M) + np.array([0, 10])\n",
    "X2 = np.random.randn(n, M) + np.array([5, 5])\n",
    "X3 = np.random.randn(n, M) + np.array([10, 0])\n",
    "Y1 = np.array([[1, 0, 0] for i in range(n)])\n",
    "Y2 = np.array([[0, 1, 0] for i in range(n)])\n",
    "Y3 = np.array([[0, 0, 1] for i in range(n)])\n",
    "\n",
    "X = np.concatenate((X1, X2, X3), axis=0)\n",
    "Y = np.concatenate((Y1, Y2, Y3), axis=0)\n",
    "print(X.shape, Y.shape)"
   ]
  },
  {
   "cell_type": "code",
   "execution_count": 4,
   "metadata": {
    "collapsed": false
   },
   "outputs": [
    {
     "data": {
      "image/png": "[encoded data removed]",
      "text/plain": [
       "<matplotlib.figure.Figure at 0x1160b05f8>"
      ]
     },
     "metadata": {},
     "output_type": "display_data"
    }
   ],
   "source": [
    "plt_form = ['r.', 'g^', 'bx']\n",
    "for _x, _f in zip([X1, X2, X3], plt_form):\n",
    "    c, m = _f[0], _f[1]\n",
    "    plt.scatter(_x[:, 0], _x[:, 1], c=c, marker=m)\n",
    "plt.show()\n"
   ]
  },
  {
   "cell_type": "markdown",
   "metadata": {},
   "source": [
    "### TensorFlow"
   ]
  },
  {
   "cell_type": "code",
   "execution_count": 5,
   "metadata": {
    "collapsed": false
   },
   "outputs": [
    {
     "name": "stdout",
     "output_type": "stream",
     "text": [
      "2 3\n"
     ]
    }
   ],
   "source": [
    "print(M, K)\n",
    "W = tf.Variable(tf.zeros([M, K]))\n",
    "b = tf.Variable(tf.zeros([K]))\n",
    "\n",
    "x = tf.placeholder(tf.float32, shape=[None, M])\n",
    "t = tf.placeholder(tf.float32, shape=[None, K])\n",
    "y = tf.nn.softmax(tf.matmul(x, W) + b)"
   ]
  },
  {
   "cell_type": "code",
   "execution_count": 6,
   "metadata": {
    "collapsed": true
   },
   "outputs": [],
   "source": [
    "cross_entropy = tf.reduce_mean(-tf.reduce_sum(t * tf.log(y), reduction_indices=[1]))"
   ]
  },
  {
   "cell_type": "code",
   "execution_count": 7,
   "metadata": {
    "collapsed": true
   },
   "outputs": [],
   "source": [
    "train_step = tf.train.GradientDescentOptimizer(0.1).minimize(cross_entropy)"
   ]
  },
  {
   "cell_type": "code",
   "execution_count": 8,
   "metadata": {
    "collapsed": true
   },
   "outputs": [],
   "source": [
    "correct_prediction = tf.equal(tf.argmax(y, 1), tf.argmax(t, 1))"
   ]
  },
  {
   "cell_type": "code",
   "execution_count": 9,
   "metadata": {
    "collapsed": false
   },
   "outputs": [
    {
     "name": "stdout",
     "output_type": "stream",
     "text": [
      "300 50 6\n"
     ]
    }
   ],
   "source": [
    "batch_size = 50\n",
    "n_batches = N // batch_size\n",
    "print(N, batch_size, n_batches)"
   ]
  },
  {
   "cell_type": "code",
   "execution_count": 10,
   "metadata": {
    "collapsed": true
   },
   "outputs": [],
   "source": [
    "init = tf.global_variables_initializer()\n",
    "sess = tf.Session()\n",
    "sess.run(init)"
   ]
  },
  {
   "cell_type": "code",
   "execution_count": 11,
   "metadata": {
    "collapsed": false
   },
   "outputs": [
    {
     "name": "stdout",
     "output_type": "stream",
     "text": [
      "epock 0, batch 0, start 0, end 50\n",
      "epock 0, batch 1, start 50, end 100\n",
      "epock 0, batch 2, start 100, end 150\n",
      "epock 0, batch 3, start 150, end 200\n",
      "epock 0, batch 4, start 200, end 250\n",
      "epock 0, batch 5, start 250, end 300\n",
      "epock 1, batch 0, start 0, end 50\n",
      "epock 1, batch 1, start 50, end 100\n",
      "epock 1, batch 2, start 100, end 150\n",
      "epock 1, batch 3, start 150, end 200\n",
      "epock 1, batch 4, start 200, end 250\n",
      "epock 1, batch 5, start 250, end 300\n",
      "epock 2, batch 0, start 0, end 50\n",
      "epock 2, batch 1, start 50, end 100\n",
      "epock 2, batch 2, start 100, end 150\n",
      "epock 2, batch 3, start 150, end 200\n",
      "epock 2, batch 4, start 200, end 250\n",
      "epock 2, batch 5, start 250, end 300\n",
      "epock 3, batch 0, start 0, end 50\n",
      "epock 3, batch 1, start 50, end 100\n",
      "epock 3, batch 2, start 100, end 150\n",
      "epock 3, batch 3, start 150, end 200\n",
      "epock 3, batch 4, start 200, end 250\n",
      "epock 3, batch 5, start 250, end 300\n",
      "epock 4, batch 0, start 0, end 50\n",
      "epock 4, batch 1, start 50, end 100\n",
      "epock 4, batch 2, start 100, end 150\n",
      "epock 4, batch 3, start 150, end 200\n",
      "epock 4, batch 4, start 200, end 250\n",
      "epock 4, batch 5, start 250, end 300\n",
      "epock 5, batch 0, start 0, end 50\n",
      "epock 5, batch 1, start 50, end 100\n",
      "epock 5, batch 2, start 100, end 150\n",
      "epock 5, batch 3, start 150, end 200\n",
      "epock 5, batch 4, start 200, end 250\n",
      "epock 5, batch 5, start 250, end 300\n",
      "epock 6, batch 0, start 0, end 50\n",
      "epock 6, batch 1, start 50, end 100\n",
      "epock 6, batch 2, start 100, end 150\n",
      "epock 6, batch 3, start 150, end 200\n",
      "epock 6, batch 4, start 200, end 250\n",
      "epock 6, batch 5, start 250, end 300\n",
      "epock 7, batch 0, start 0, end 50\n",
      "epock 7, batch 1, start 50, end 100\n",
      "epock 7, batch 2, start 100, end 150\n",
      "epock 7, batch 3, start 150, end 200\n",
      "epock 7, batch 4, start 200, end 250\n",
      "epock 7, batch 5, start 250, end 300\n",
      "epock 8, batch 0, start 0, end 50\n",
      "epock 8, batch 1, start 50, end 100\n",
      "epock 8, batch 2, start 100, end 150\n",
      "epock 8, batch 3, start 150, end 200\n",
      "epock 8, batch 4, start 200, end 250\n",
      "epock 8, batch 5, start 250, end 300\n",
      "epock 9, batch 0, start 0, end 50\n",
      "epock 9, batch 1, start 50, end 100\n",
      "epock 9, batch 2, start 100, end 150\n",
      "epock 9, batch 3, start 150, end 200\n",
      "epock 9, batch 4, start 200, end 250\n",
      "epock 9, batch 5, start 250, end 300\n",
      "epock 10, batch 0, start 0, end 50\n",
      "epock 10, batch 1, start 50, end 100\n",
      "epock 10, batch 2, start 100, end 150\n",
      "epock 10, batch 3, start 150, end 200\n",
      "epock 10, batch 4, start 200, end 250\n",
      "epock 10, batch 5, start 250, end 300\n",
      "epock 11, batch 0, start 0, end 50\n",
      "epock 11, batch 1, start 50, end 100\n",
      "epock 11, batch 2, start 100, end 150\n",
      "epock 11, batch 3, start 150, end 200\n",
      "epock 11, batch 4, start 200, end 250\n",
      "epock 11, batch 5, start 250, end 300\n",
      "epock 12, batch 0, start 0, end 50\n",
      "epock 12, batch 1, start 50, end 100\n",
      "epock 12, batch 2, start 100, end 150\n",
      "epock 12, batch 3, start 150, end 200\n",
      "epock 12, batch 4, start 200, end 250\n",
      "epock 12, batch 5, start 250, end 300\n",
      "epock 13, batch 0, start 0, end 50\n",
      "epock 13, batch 1, start 50, end 100\n",
      "epock 13, batch 2, start 100, end 150\n",
      "epock 13, batch 3, start 150, end 200\n",
      "epock 13, batch 4, start 200, end 250\n",
      "epock 13, batch 5, start 250, end 300\n",
      "epock 14, batch 0, start 0, end 50\n",
      "epock 14, batch 1, start 50, end 100\n",
      "epock 14, batch 2, start 100, end 150\n",
      "epock 14, batch 3, start 150, end 200\n",
      "epock 14, batch 4, start 200, end 250\n",
      "epock 14, batch 5, start 250, end 300\n",
      "epock 15, batch 0, start 0, end 50\n",
      "epock 15, batch 1, start 50, end 100\n",
      "epock 15, batch 2, start 100, end 150\n",
      "epock 15, batch 3, start 150, end 200\n",
      "epock 15, batch 4, start 200, end 250\n",
      "epock 15, batch 5, start 250, end 300\n",
      "epock 16, batch 0, start 0, end 50\n",
      "epock 16, batch 1, start 50, end 100\n",
      "epock 16, batch 2, start 100, end 150\n",
      "epock 16, batch 3, start 150, end 200\n",
      "epock 16, batch 4, start 200, end 250\n",
      "epock 16, batch 5, start 250, end 300\n",
      "epock 17, batch 0, start 0, end 50\n",
      "epock 17, batch 1, start 50, end 100\n",
      "epock 17, batch 2, start 100, end 150\n",
      "epock 17, batch 3, start 150, end 200\n",
      "epock 17, batch 4, start 200, end 250\n",
      "epock 17, batch 5, start 250, end 300\n",
      "epock 18, batch 0, start 0, end 50\n",
      "epock 18, batch 1, start 50, end 100\n",
      "epock 18, batch 2, start 100, end 150\n",
      "epock 18, batch 3, start 150, end 200\n",
      "epock 18, batch 4, start 200, end 250\n",
      "epock 18, batch 5, start 250, end 300\n",
      "epock 19, batch 0, start 0, end 50\n",
      "epock 19, batch 1, start 50, end 100\n",
      "epock 19, batch 2, start 100, end 150\n",
      "epock 19, batch 3, start 150, end 200\n",
      "epock 19, batch 4, start 200, end 250\n",
      "epock 19, batch 5, start 250, end 300\n"
     ]
    }
   ],
   "source": [
    "for epoch in range(20):\n",
    "    X_, Y_ = shuffle(X, Y)\n",
    "    \n",
    "    for i in range(n_batches):\n",
    "        start = i * batch_size\n",
    "        end = start + batch_size\n",
    "        print('epock {}, batch {}, start {}, end {}'.format(epoch, i, start, end))\n",
    "        \n",
    "        sess.run(train_step, feed_dict={x: X_[start:end], t: Y_[start:end]})"
   ]
  },
  {
   "cell_type": "code",
   "execution_count": 12,
   "metadata": {
    "collapsed": true
   },
   "outputs": [],
   "source": [
    "X_, Y_ = shuffle(X, Y) \n",
    "\n",
    "classified = correct_prediction.eval(session=sess, feed_dict={x:X_[0:10], t:Y_[0:10]})\n",
    "\n",
    "prob = y.eval(session=sess, feed_dict={x:X_[0:10]})"
   ]
  },
  {
   "cell_type": "code",
   "execution_count": 13,
   "metadata": {
    "collapsed": false
   },
   "outputs": [
    {
     "name": "stdout",
     "output_type": "stream",
     "text": [
      "classified:\n",
      "[ True  True  True  True  True  True  True  True  True  True]\n",
      "\n",
      "output probability:\n",
      "[[  8.96556358e-08   1.58026014e-02   9.84197319e-01]\n",
      " [  9.79941726e-01   2.00582072e-02   3.27063319e-08]\n",
      " [  6.23386356e-08   2.31216867e-02   9.76878285e-01]\n",
      " [  9.88830149e-01   1.11698108e-02   4.71609196e-09]\n",
      " [  4.03288595e-07   1.10603064e-01   8.89396608e-01]\n",
      " [  2.36165536e-12   1.35802926e-04   9.99864221e-01]\n",
      " [  6.27914654e-09   2.80581396e-02   9.71941888e-01]\n",
      " [  9.28228442e-03   9.58635807e-01   3.20819020e-02]\n",
      " [  9.93630350e-01   6.36961544e-03   2.13315481e-08]\n",
      " [  1.61841962e-09   9.47075244e-03   9.90529239e-01]]\n"
     ]
    }
   ],
   "source": [
    "print('classified:')\n",
    "print(classified)\n",
    "print()\n",
    "print('output probability:')\n",
    "print(prob)"
   ]
  },
  {
   "cell_type": "code",
   "execution_count": 14,
   "metadata": {
    "collapsed": false
   },
   "outputs": [
    {
     "name": "stdout",
     "output_type": "stream",
     "text": [
      "[[-1.09689343  0.30297628  0.79391736]\n",
      " [ 0.80980581  0.29080689 -1.10061288]]\n",
      "[-0.05187939  0.0957571  -0.04387772]\n"
     ]
    }
   ],
   "source": [
    "_w=sess.run(W)\n",
    "_b=sess.run(b)\n",
    "print(_w)\n",
    "print(_b)"
   ]
  },
  {
   "cell_type": "code",
   "execution_count": 15,
   "metadata": {
    "collapsed": false
   },
   "outputs": [
    {
     "name": "stdout",
     "output_type": "stream",
     "text": [
      "[[-1.09689343  0.30297628]\n",
      " [ 0.80980581  0.29080689]]\n",
      "[-0.05187939  0.0957571 ]\n",
      "0.518999 3.6738 0.284464\n",
      "[[ 0.30297628  0.29080689]\n",
      " [ 0.79391736 -1.10061288]]\n",
      "[ 0.0957571  -0.04387772]\n",
      "1.89453 0.259136 -0.0737042\n"
     ]
    },
    {
     "data": {
      "image/png": "[encoded data removed]",
      "text/plain": [
       "<matplotlib.figure.Figure at 0x11871aa58>"
      ]
     },
     "metadata": {},
     "output_type": "display_data"
    }
   ],
   "source": [
    "\n",
    "def f(x, w, b):\n",
    "    print(w)\n",
    "    print(b)\n",
    "    _a=w[1,0]-w[1,1]\n",
    "    _b=-(w[0, 0]-w[1,0])/_a\n",
    "    _c=-(b[0]-b[1])/_a\n",
    "    print(_a, _b, _c)\n",
    "    return np.array(_b*x+_c)\n",
    "\n",
    "x1 = np.arange(-4, 14, 0.1)\n",
    "\n",
    "plt.plot(x1, f(x1, _w[:, [0,1]], _b[0:2]), 'r')\n",
    "plt.plot(x1, f(x1, _w[:, [1,2]].T, _b[1:3]), 'b')\n",
    "\n",
    "\n",
    "plt_form = ['r.', 'g^', 'bx']\n",
    "for _x, _f in zip([X1, X2, X3], plt_form):\n",
    "    c, m = _f[0], _f[1]\n",
    "    plt.scatter(_x[:, 0], _x[:, 1], c=c, marker=m)\n",
    "\n",
    "ax=plt.gca()\n",
    "ax.set_xlim([-4, 14])\n",
    "ax.set_ylim([-4, 14])\n",
    "plt.show()\n"
   ]
  },
  {
   "cell_type": "markdown",
   "metadata": {},
   "source": [
    "### Keras "
   ]
  },
  {
   "cell_type": "code",
   "execution_count": 16,
   "metadata": {
    "collapsed": false
   },
   "outputs": [],
   "source": [
    "model=Sequential()\n",
    "model.add(Dense(input_dim=M, units=K))\n",
    "model.add(Activation('softmax'))\n",
    "\n",
    "model.compile(loss='categorical_crossentropy', optimizer=SGD(lr=0.1))"
   ]
  },
  {
   "cell_type": "code",
   "execution_count": 17,
   "metadata": {
    "collapsed": false
   },
   "outputs": [
    {
     "name": "stdout",
     "output_type": "stream",
     "text": [
      "Epoch 1/20\n",
      "300/300 [==============================] - 0s 903us/step - loss: 3.2732\b\b\b\b\b\b\b\b\b\b\b\b\b\b\b\b\b\b\b\b\b\b\b\b\b\b\b\b\b\b\b\b\b\b\b\b\b\b\b\b\b\b\b\b\b\b\b\b\b\b\b\b\b\b\b\b\b\b\b\n",
      "Epoch 2/20\n",
      "300/300 [==============================] - 0s 54us/step - loss: 0.1528\b\b\b\b\b\b\b\b\b\b\b\b\b\b\b\b\b\b\b\b\b\b\b\b\b\b\b\b\b\b\b\b\b\b\b\b\b\b\b\b\b\b\b\b\b\b\b\b\b\b\b\b\b\b\b\b\b\b\b\b\n",
      "Epoch 3/20\n",
      "300/300 [==============================] - 0s 57us/step - loss: 0.1186\b\b\b\b\b\b\b\b\b\b\b\b\b\b\b\b\b\b\b\b\b\b\b\b\b\b\b\b\b\b\b\b\b\b\b\b\b\b\b\b\b\b\b\b\b\b\b\b\b\b\b\b\b\b\b\b\b\b\b\b\n",
      "Epoch 4/20\n",
      "300/300 [==============================] - 0s 56us/step - loss: 0.0976\b\b\b\b\b\b\b\b\b\b\b\b\b\b\b\b\b\b\b\b\b\b\b\b\b\b\b\b\b\b\b\b\b\b\b\b\b\b\b\b\b\b\b\b\b\b\b\b\b\b\b\b\b\b\b\b\b\b\b\b\n",
      "Epoch 5/20\n",
      "300/300 [==============================] - 0s 55us/step - loss: 0.0843\b\b\b\b\b\b\b\b\b\b\b\b\b\b\b\b\b\b\b\b\b\b\b\b\b\b\b\b\b\b\b\b\b\b\b\b\b\b\b\b\b\b\b\b\b\b\b\b\b\b\b\b\b\b\b\b\b\b\b\b\n",
      "Epoch 6/20\n",
      "300/300 [==============================] - 0s 56us/step - loss: 0.0752\b\b\b\b\b\b\b\b\b\b\b\b\b\b\b\b\b\b\b\b\b\b\b\b\b\b\b\b\b\b\b\b\b\b\b\b\b\b\b\b\b\b\b\b\b\b\b\b\b\b\b\b\b\b\b\b\b\b\b\b\n",
      "Epoch 7/20\n",
      "300/300 [==============================] - 0s 49us/step - loss: 0.0686\b\b\b\b\b\b\b\b\b\b\b\b\b\b\b\b\b\b\b\b\b\b\b\b\b\b\b\b\b\b\b\b\b\b\b\b\b\b\b\b\b\b\b\b\b\b\b\b\b\b\b\b\b\b\b\b\b\b\b\b\n",
      "Epoch 8/20\n",
      "300/300 [==============================] - 0s 49us/step - loss: 0.0620\b\b\b\b\b\b\b\b\b\b\b\b\b\b\b\b\b\b\b\b\b\b\b\b\b\b\b\b\b\b\b\b\b\b\b\b\b\b\b\b\b\b\b\b\b\b\b\b\b\b\b\b\b\b\b\b\b\b\b\b\n",
      "Epoch 9/20\n",
      "300/300 [==============================] - 0s 49us/step - loss: 0.0565\b\b\b\b\b\b\b\b\b\b\b\b\b\b\b\b\b\b\b\b\b\b\b\b\b\b\b\b\b\b\b\b\b\b\b\b\b\b\b\b\b\b\b\b\b\b\b\b\b\b\b\b\b\b\b\b\b\b\b\b\n",
      "Epoch 10/20\n",
      "300/300 [==============================] - 0s 53us/step - loss: 0.0529\b\b\b\b\b\b\b\b\b\b\b\b\b\b\b\b\b\b\b\b\b\b\b\b\b\b\b\b\b\b\b\b\b\b\b\b\b\b\b\b\b\b\b\b\b\b\b\b\b\b\b\b\b\b\b\b\b\b\b\b\n",
      "Epoch 11/20\n",
      "300/300 [==============================] - 0s 53us/step - loss: 0.0492\b\b\b\b\b\b\b\b\b\b\b\b\b\b\b\b\b\b\b\b\b\b\b\b\b\b\b\b\b\b\b\b\b\b\b\b\b\b\b\b\b\b\b\b\b\b\b\b\b\b\b\b\b\b\b\b\b\b\b\b\n",
      "Epoch 12/20\n",
      "300/300 [==============================] - 0s 49us/step - loss: 0.0464\b\b\b\b\b\b\b\b\b\b\b\b\b\b\b\b\b\b\b\b\b\b\b\b\b\b\b\b\b\b\b\b\b\b\b\b\b\b\b\b\b\b\b\b\b\b\b\b\b\b\b\b\b\b\b\b\b\b\b\b\n",
      "Epoch 13/20\n",
      "300/300 [==============================] - 0s 52us/step - loss: 0.0443\b\b\b\b\b\b\b\b\b\b\b\b\b\b\b\b\b\b\b\b\b\b\b\b\b\b\b\b\b\b\b\b\b\b\b\b\b\b\b\b\b\b\b\b\b\b\b\b\b\b\b\b\b\b\b\b\b\b\b\b\n",
      "Epoch 14/20\n",
      "300/300 [==============================] - 0s 49us/step - loss: 0.0415\b\b\b\b\b\b\b\b\b\b\b\b\b\b\b\b\b\b\b\b\b\b\b\b\b\b\b\b\b\b\b\b\b\b\b\b\b\b\b\b\b\b\b\b\b\b\b\b\b\b\b\b\b\b\b\b\b\b\b\b\n",
      "Epoch 15/20\n",
      "300/300 [==============================] - 0s 50us/step - loss: 0.0396\b\b\b\b\b\b\b\b\b\b\b\b\b\b\b\b\b\b\b\b\b\b\b\b\b\b\b\b\b\b\b\b\b\b\b\b\b\b\b\b\b\b\b\b\b\b\b\b\b\b\b\b\b\b\b\b\b\b\b\b\n",
      "Epoch 16/20\n",
      "300/300 [==============================] - 0s 46us/step - loss: 0.0378\b\b\b\b\b\b\b\b\b\b\b\b\b\b\b\b\b\b\b\b\b\b\b\b\b\b\b\b\b\b\b\b\b\b\b\b\b\b\b\b\b\b\b\b\b\b\b\b\b\b\b\b\b\b\b\b\b\b\b\b\n",
      "Epoch 17/20\n",
      "300/300 [==============================] - 0s 50us/step - loss: 0.0361\b\b\b\b\b\b\b\b\b\b\b\b\b\b\b\b\b\b\b\b\b\b\b\b\b\b\b\b\b\b\b\b\b\b\b\b\b\b\b\b\b\b\b\b\b\b\b\b\b\b\b\b\b\b\b\b\b\b\b\b\n",
      "Epoch 18/20\n",
      "300/300 [==============================] - 0s 51us/step - loss: 0.0346\b\b\b\b\b\b\b\b\b\b\b\b\b\b\b\b\b\b\b\b\b\b\b\b\b\b\b\b\b\b\b\b\b\b\b\b\b\b\b\b\b\b\b\b\b\b\b\b\b\b\b\b\b\b\b\b\b\b\b\b\n",
      "Epoch 19/20\n",
      "300/300 [==============================] - 0s 47us/step - loss: 0.0334\b\b\b\b\b\b\b\b\b\b\b\b\b\b\b\b\b\b\b\b\b\b\b\b\b\b\b\b\b\b\b\b\b\b\b\b\b\b\b\b\b\b\b\b\b\b\b\b\b\b\b\b\b\b\b\b\b\b\b\b\n",
      "Epoch 20/20\n",
      "300/300 [==============================] - 0s 50us/step - loss: 0.0320\b\b\b\b\b\b\b\b\b\b\b\b\b\b\b\b\b\b\b\b\b\b\b\b\b\b\b\b\b\b\b\b\b\b\b\b\b\b\b\b\b\b\b\b\b\b\b\b\b\b\b\b\b\b\b\b\b\b\b\b\n"
     ]
    },
    {
     "data": {
      "text/plain": [
       "<keras.callbacks.History at 0x11876a5c0>"
      ]
     },
     "execution_count": 17,
     "metadata": {},
     "output_type": "execute_result"
    }
   ],
   "source": [
    "minibatch_size=50\n",
    "model.fit(X, Y, epochs=20, batch_size=minibatch_size)"
   ]
  },
  {
   "cell_type": "code",
   "execution_count": 18,
   "metadata": {
    "collapsed": false
   },
   "outputs": [],
   "source": [
    "X_, Y_ = shuffle(X, Y)\n",
    "classes = model.predict_classes(X_[0:10], batch_size=minibatch_size)\n",
    "prob = model.predict_proba(X_[0:10], batch_size=1)"
   ]
  },
  {
   "cell_type": "code",
   "execution_count": 19,
   "metadata": {
    "collapsed": false
   },
   "outputs": [
    {
     "name": "stdout",
     "output_type": "stream",
     "text": [
      "classified:\n",
      "[ True  True  True  True  True  True  True  True  True  True]\n",
      "\n",
      "output probability:\n",
      "[[  2.03605914e-08   1.64975487e-02   9.83502448e-01]\n",
      " [  6.94608781e-03   9.89356935e-01   3.69698834e-03]\n",
      " [  9.97534394e-01   2.46557640e-03   9.41435641e-09]\n",
      " [  5.88641735e-03   9.72499549e-01   2.16140840e-02]\n",
      " [  9.28304613e-01   7.16954097e-02   1.82022379e-08]\n",
      " [  1.65449110e-09   4.47987486e-03   9.95520115e-01]\n",
      " [  9.74664032e-01   2.53356900e-02   2.60127450e-07]\n",
      " [  5.71124908e-03   9.62913513e-01   3.13751437e-02]\n",
      " [  9.95665967e-01   4.33410890e-03   2.19165153e-09]\n",
      " [  1.09517051e-09   9.66613553e-03   9.90333855e-01]]\n"
     ]
    }
   ],
   "source": [
    "print('classified:')\n",
    "print(np.argmax(model.predict(X_[0:10]), axis=1) == classes)\n",
    "print()\n",
    "print('output probability:')\n",
    "print(prob)\n"
   ]
  },
  {
   "cell_type": "code",
   "execution_count": null,
   "metadata": {
    "collapsed": true
   },
   "outputs": [],
   "source": []
  }
 ],
 "metadata": {
  "kernelspec": {
   "display_name": "Python 3",
   "language": "python",
   "name": "python3"
  },
  "language_info": {
   "codemirror_mode": {
    "name": "ipython",
    "version": 3
   },
   "file_extension": ".py",
   "mimetype": "text/x-python",
   "name": "python",
   "nbconvert_exporter": "python",
   "pygments_lexer": "ipython3",
   "version": "3.5.2"
  }
 },
 "nbformat": 4,
 "nbformat_minor": 2
}
